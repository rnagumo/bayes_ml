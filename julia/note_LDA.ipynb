{
 "cells": [
  {
   "cell_type": "markdown",
   "metadata": {},
   "source": [
    "# Example for LDA (Latent Dirichlet Allocation)"
   ]
  },
  {
   "cell_type": "code",
   "execution_count": 1,
   "metadata": {},
   "outputs": [],
   "source": [
    "using LinearAlgebra\n",
    "using PyPlot, PyCall\n",
    "using ArgParse\n",
    "using Distributions\n",
    "\n",
    "push!(LOAD_PATH, \".\")\n",
    "import LDA"
   ]
  },
  {
   "cell_type": "markdown",
   "metadata": {},
   "source": [
    "# Example for 20 news groups"
   ]
  },
  {
   "cell_type": "code",
   "execution_count": 14,
   "metadata": {},
   "outputs": [
    {
     "data": {
      "text/plain": [
       "newsgroup_example (generic function with 1 method)"
      ]
     },
     "execution_count": 14,
     "metadata": {},
     "output_type": "execute_result"
    }
   ],
   "source": [
    "function newsgroup_example()\n",
    "    datasets = pyimport(\"sklearn.datasets\")\n",
    "    categories = [\"alt.atheism\", \"soc.religion.christian\", \"comp.graphics\", \"sci.med\"]\n",
    "    twenty_train = datasets.fetch_20newsgroups(subset=\"train\", categories=categories,\n",
    "                                               shuffle=true, random_state=0)\n",
    "    \n",
    "    np = pyimport(\"numpy\")\n",
    "    fe_text = pyimport(\"sklearn.feature_extraction.text\")\n",
    "    cnt_vect = fe_text.CountVectorizer(dtype=np.int32)   \n",
    "    X_train_counts = cnt_vect.fit_transform(twenty_train[\"data\"])\n",
    "    \n",
    "    D = X_train_counts.shape[1]  # Number of documents\n",
    "    K = 4  # Number of topics\n",
    "    V = X_train_counts.shape[2]  # Number of vocabulary\n",
    "    alpha = ones(D, K)\n",
    "    beta = ones(K, V)\n",
    "\n",
    "    prior = LDA.LDAModel(D, K, V, alpha, beta)\n",
    "    max_iter = 100\n",
    "    posterior, S_est = LDA.VI(X_train_counts.toarray(), prior, max_iter)\n",
    "    \n",
    "    return twenty_train, posterior, S_est\n",
    "end"
   ]
  },
  {
   "cell_type": "code",
   "execution_count": null,
   "metadata": {},
   "outputs": [],
   "source": [
    "twenty_train, posterior, S_est = newsgroup_example()"
   ]
  },
  {
   "cell_type": "code",
   "execution_count": null,
   "metadata": {},
   "outputs": [],
   "source": []
  },
  {
   "cell_type": "code",
   "execution_count": null,
   "metadata": {},
   "outputs": [],
   "source": []
  },
  {
   "cell_type": "code",
   "execution_count": null,
   "metadata": {},
   "outputs": [],
   "source": []
  },
  {
   "cell_type": "code",
   "execution_count": null,
   "metadata": {},
   "outputs": [],
   "source": []
  }
 ],
 "metadata": {
  "kernelspec": {
   "display_name": "Julia 1.1.1",
   "language": "julia",
   "name": "julia-1.1"
  },
  "language_info": {
   "file_extension": ".jl",
   "mimetype": "application/julia",
   "name": "julia",
   "version": "1.1.1"
  }
 },
 "nbformat": 4,
 "nbformat_minor": 2
}
